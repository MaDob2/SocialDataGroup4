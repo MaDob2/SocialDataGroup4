{
 "cells": [
  {
   "cell_type": "markdown",
   "metadata": {},
   "source": [
    "# Solar Panel Dataset\n",
    "## Company: EasyGreen\n",
    "### Explanation of Variables in Dataset\n",
    "\n",
    "totalUsePower: Total kWh (amount of electricity) used today.\n",
    "\n",
    "\n",
    "totalProductPower: Total kWh (amount of electricity) produced by the solar panels today.\n",
    "\n",
    "\n",
    "totalSelfUsePower: Total kWh (amount of electricity) of today's production used for home electricity consumption.\n",
    "\n",
    "\n",
    "totalBuyPower: Total kWh (amount of electricity) bought from the grid today."
   ]
  },
  {
   "cell_type": "code",
   "execution_count": 5,
   "metadata": {},
   "outputs": [],
   "source": [
    "from sqlalchemy import create_engine\n",
    "import pandas as pd\n",
    "import matplotlib.pyplot as plt\n",
    "import seaborn as sns\n",
    "from sklearn.decomposition import PCA\n",
    "from sklearn.preprocessing import StandardScaler\n",
    "from pyairtable import Api\n",
    "pd.set_option('display.float_format', lambda x: '%.2f' % x)\n",
    "\n",
    "# Connection details\n",
    "username = 'introToML'\n",
    "password = 'pddbb1c530308955bbd2c5aa59a647e30074fc7b7ebde93f626c481f4de93f7de'\n",
    "host = 'ec2-63-32-137-56.eu-west-1.compute.amazonaws.com'\n",
    "port = '5432'\n",
    "dbname = 'dcsdgo449thll5'\n",
    "\n",
    "# Connection string\n",
    "connection_string = f'postgresql+psycopg2://{username}:{password}@{host}:{port}/{dbname}'\n",
    "\n",
    "# Create the engine\n",
    "engine = create_engine(connection_string)\n",
    "\n",
    "# Specify your table name\n",
    "table_name = 'power_usage'\n",
    "\n",
    "# Read the table into a DataFrame\n",
    "df = pd.read_sql_table(table_name, engine, schema='public')"
   ]
  },
  {
   "cell_type": "code",
   "execution_count": 6,
   "metadata": {},
   "outputs": [],
   "source": [
    "addressData = pd.read_csv('addressData.csv')\n",
    "# rename Kunde ID to user_id, Kundens navn to name, CPR adresse to address\n",
    "addressData.rename(columns={'Kunde ID':'user_id', 'Kundens navn':'name', 'CPR adresse':'address'}, inplace=True)\n",
    "addressData['user_id'] = addressData['user_id'].fillna(0).astype(int)"
   ]
  },
  {
   "cell_type": "code",
   "execution_count": 7,
   "metadata": {},
   "outputs": [],
   "source": [
    "def clean_addresses(address):\n",
    "    # Replace unwanted characters with a space or remove them\n",
    "    address = address.str.replace(r'[@#*]', '', regex=True)  # Remove @, #, *\n",
    "    address = address.str.replace(r'[\\n\\r]', ' ', regex=True)  # Replace newlines with space\n",
    "    address = address.str.strip()  # Strip leading/trailing whitespace\n",
    "    return address\n",
    "\n",
    "# Apply cleaning function\n",
    "addressData['address'] = clean_addresses(addressData['address'])"
   ]
  },
  {
   "cell_type": "code",
   "execution_count": 19,
   "metadata": {},
   "outputs": [],
   "source": [
    "import requests\n",
    "import time \n",
    "\n",
    "def geocode_address(api_key, address):\n",
    "    base_url = \"https://us1.locationiq.com/v1/search.php\"\n",
    "    params = {\n",
    "        \"key\": api_key,\n",
    "        \"q\": address,\n",
    "        \"format\": \"json\"\n",
    "    }\n",
    "    response = requests.get(base_url, params=params)\n",
    "    if response.status_code == 200:\n",
    "        data = response.json()\n",
    "        if len(data) > 0:\n",
    "            lat = data[0]['lat']\n",
    "            lon = data[0]['lon']\n",
    "            print(f\"Address: {address} -> Latitude: {lat}, Longitude: {lon}\")\n",
    "            time.sleep(1)\n",
    "            return lat, lon\n",
    "        else:\n",
    "            print(f\"Address: {address} -> No results found.\")\n",
    "            return None, None\n",
    "        \n",
    "    else:\n",
    "        print(f\"Address: {address} -> Failed to geocode with status code {response.status_code}.\")\n",
    "        time.sleep(1)\n",
    "        return None, None    \n",
    "        \n",
    "def apply_geocoding(row):\n",
    "    lat, lon = geocode_address(\"pk.fdf56d0c2c0bbfc3b4054a3a45c0bd72\", row['address'])\n",
    "    return pd.Series([lat, lon])"
   ]
  },
  {
   "cell_type": "code",
   "execution_count": null,
   "metadata": {},
   "outputs": [],
   "source": [
    "# Applying geocoding\n",
    "addressData[['latitude', 'longitude']] = addressData.apply(apply_geocoding, axis=1)\n",
    "\n",
    "addressData.head()"
   ]
  },
  {
   "cell_type": "code",
   "execution_count": 22,
   "metadata": {},
   "outputs": [],
   "source": [
    "addressData.to_csv('addressData.csv', index=False)"
   ]
  },
  {
   "cell_type": "code",
   "execution_count": 23,
   "metadata": {},
   "outputs": [],
   "source": [
    "# merge addressData and df on user_id\n",
    "\n",
    "dfMerged = df.merge(addressData, on='user_id', how='left')"
   ]
  },
  {
   "cell_type": "code",
   "execution_count": 26,
   "metadata": {},
   "outputs": [],
   "source": [
    "dfMerged.to_csv('dfMerged.csv', index=False)"
   ]
  }
 ],
 "metadata": {
  "kernelspec": {
   "display_name": "base",
   "language": "python",
   "name": "python3"
  },
  "language_info": {
   "codemirror_mode": {
    "name": "ipython",
    "version": 3
   },
   "file_extension": ".py",
   "mimetype": "text/x-python",
   "name": "python",
   "nbconvert_exporter": "python",
   "pygments_lexer": "ipython3",
   "version": "3.10.13"
  }
 },
 "nbformat": 4,
 "nbformat_minor": 2
}
