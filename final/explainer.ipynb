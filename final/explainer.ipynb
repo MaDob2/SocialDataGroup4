{
 "cells": [
  {
   "cell_type": "markdown",
   "metadata": {},
   "source": [
    "# 1. Motivation"
   ]
  },
  {
   "cell_type": "markdown",
   "metadata": {},
   "source": [
    "* **What is your dataset?**\n",
    "  \n",
    "  The dataset focuses on the energy consumption and production in Denmark at a household level, specifically detailing electricity usage, production from solar panels, and interactions with the electrical grid.\n",
    "  \n",
    "  The key variables might include:\n",
    "    * Total Power Produced (from solar panels)\n",
    "    * Total Power Used (household energy consumption)\n",
    "    * Power Self-Used (energy consumed directly from solar production)\n",
    "    * Power Bought from Grid"
   ]
  },
  {
   "cell_type": "markdown",
   "metadata": {},
   "source": [
    "* **Why did you choose this/these particular dataset(s)?**\n",
    "  \n",
    "    TODO by shakir. \n",
    "    \n",
    "    Relevance to Sustainable Energy Solutions"
   ]
  },
  {
   "cell_type": "markdown",
   "metadata": {},
   "source": [
    "* **What was your goal for the end user's experience?**\n",
    "\n",
    "    First we want to provide some basic graphs to illustrate our data set, by comparing some variables  \n",
    "    \n",
    "    We plan to provide various interactive plots for users.\n",
    "\n",
    "    Optimization of self-usage. \n",
    "\n",
    "    Incentives for using electricity produced by solar panels"
   ]
  },
  {
   "cell_type": "markdown",
   "metadata": {},
   "source": [
    "# 2. Basic stats"
   ]
  },
  {
   "cell_type": "markdown",
   "metadata": {},
   "source": [
    "* Write about your choices in data cleaning and preprocessing\n",
    "\n",
    "    "
   ]
  }
 ],
 "metadata": {
  "language_info": {
   "name": "python"
  }
 },
 "nbformat": 4,
 "nbformat_minor": 2
}
