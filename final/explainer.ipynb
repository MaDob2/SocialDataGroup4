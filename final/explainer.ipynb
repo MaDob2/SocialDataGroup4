{
 "cells": [
  {
   "cell_type": "markdown",
   "metadata": {},
   "source": [
    "# 1. Motivation"
   ]
  },
  {
   "cell_type": "markdown",
   "metadata": {},
   "source": [
    "* **What is your dataset?**\n",
    "  \n",
    "  The main dataset focuses on the energy consumption and production in Denmark at a household level, specifically detailing electricity usage, production from solar panels, and interactions with the electrical grid.\n",
    "  \n",
    "  The key variables include:\n",
    "    * Total Power Produced (from solar panels)\n",
    "    * Total Power Used (household energy consumption)\n",
    "    * Power Self-Used (energy consumed directly from solar production)\n",
    "    * Power Bought from Grid\n",
    "\n",
    "  The data ranges from November 2022 to April 2024. The values are recorded on a daily level.\n",
    "\n",
    "  Additionally, information on the household location and the age of the household owners is available.\n"
   ]
  },
  {
   "cell_type": "markdown",
   "metadata": {},
   "source": [
    "* **Why did you choose this/these particular dataset(s)?**\n",
    "    \n",
    "    Among \n",
    "    TODO by shakir. \n",
    "    \n",
    "    Relevance to Sustainable Energy Solutions"
   ]
  },
  {
   "cell_type": "markdown",
   "metadata": {},
   "source": [
    "* **What was your goal for the end user's experience?**\n",
    "\n",
    "    Initially, the user is presented an overview over the usage and popularity of solar power in Denmark.\n",
    "    This serves the purpose of illustrating an increased demand for solar panels since 2022 and thus aids comprehending the effects of market mechanisms on the usage and production of solar energy."
   ]
  },
  {
   "cell_type": "markdown",
   "metadata": {},
   "source": [
    "# 2. Basic Stats"
   ]
  },
  {
   "cell_type": "markdown",
   "metadata": {},
   "source": [
    "\n",
    "    Write about your choices in data cleaning and preprocessing\n",
    "    Write a short section that discusses the dataset stats, containing key points/plots from your exploratory data analysis.\n"
   ]
  },
  {
   "cell_type": "markdown",
   "metadata": {},
   "source": [
    "Because the dataset is fetched from a private company API, it contains personal information, such as name and age. \n",
    "\n",
    "The dataset contains 829 individual households and records data on 967 days.\n",
    "Most households have had solar panel installations after the beginning of the dataset (after November 2022), thus the number of daily recordings increased continuously.\n",
    "--> Magnus add graph for number of households per day.\n",
    "\n",
    "Mostly likely due to reading errors or other technical failures, some outliers with very high daily production or usage levels are identified.\n",
    "These outliers have been removed from the dataset to avoid a distortion of the data.\n",
    "Similarly, the recorded age ranges from -41 to 162 which does not make sense in this context.\n",
    "    "
   ]
  },
  {
   "cell_type": "code",
   "execution_count": 9,
   "metadata": {},
   "outputs": [],
   "source": [
    "import pandas as pd\n",
    "import numpy as np\n",
    "import matplotlib.pyplot as plt\n",
    "import os\n",
    "import altair as alt"
   ]
  },
  {
   "cell_type": "code",
   "execution_count": 10,
   "metadata": {},
   "outputs": [
    {
     "name": "stderr",
     "output_type": "stream",
     "text": [
      "C:\\Users\\Magnus\\AppData\\Local\\Temp\\ipykernel_17692\\3185097790.py:3: UserWarning: Parsing dates in DD/MM/YYYY format when dayfirst=False (the default) was specified. This may lead to inconsistently parsed dates! Specify a format to ensure consistent parsing.\n",
      "  df['usage_date'] = pd.to_datetime(df['usage_date'])\n"
     ]
    }
   ],
   "source": [
    "df_raw=pd.read_csv('Data/dfMerged.csv')\n",
    "df=df_raw.copy()\n",
    "df['usage_date'] = pd.to_datetime(df['usage_date'])\n",
    "df=df[(df.totalUsePower<500) & (df.totalProductPower<500) & (df.totalSelfUsePower<500) & (df.totalBuyPower<500)]"
   ]
  },
  {
   "cell_type": "code",
   "execution_count": 14,
   "metadata": {},
   "outputs": [
    {
     "name": "stderr",
     "output_type": "stream",
     "text": [
      "C:\\Users\\Magnus\\AppData\\Local\\Temp\\ipykernel_17692\\2681518468.py:1: FutureWarning: DataFrame.mean and DataFrame.median with numeric_only=None will include datetime64 and datetime64tz columns in a future version.\n",
      "  df.mean(axis=0)\n"
     ]
    },
    {
     "data": {
      "text/plain": [
       "user_id              901.192618\n",
       "totalBuyPower         15.885371\n",
       "totalProductPower     16.021207\n",
       "totalUsePower         22.924063\n",
       "totalOnGridPower       7.936324\n",
       "night_usage           12.334536\n",
       "totalSelfUsePower      8.084883\n",
       "latitude              55.661318\n",
       "longitude             11.860148\n",
       "age                   53.090818\n",
       "dtype: float64"
      ]
     },
     "execution_count": 14,
     "metadata": {},
     "output_type": "execute_result"
    }
   ],
   "source": [
    "df.mean(axis=0)"
   ]
  },
  {
   "cell_type": "code",
   "execution_count": 12,
   "metadata": {},
   "outputs": [
    {
     "data": {
      "text/plain": [
       "user_id                             1833\n",
       "usage_date           2024-12-03 00:00:00\n",
       "totalBuyPower                     281.19\n",
       "totalProductPower                 105.82\n",
       "totalUsePower                     281.19\n",
       "totalOnGridPower                   92.02\n",
       "night_usage                    160.73475\n",
       "totalSelfUsePower                 103.63\n",
       "latitude                       57.426306\n",
       "longitude                      15.128681\n",
       "age                                162.0\n",
       "dtype: object"
      ]
     },
     "execution_count": 12,
     "metadata": {},
     "output_type": "execute_result"
    }
   ],
   "source": [
    "df.max()"
   ]
  },
  {
   "cell_type": "markdown",
   "metadata": {},
   "source": [
    "# 3. Data Analysis"
   ]
  },
  {
   "cell_type": "markdown",
   "metadata": {},
   "source": [
    "Describe your data analysis and explain what you've learned about the dataset."
   ]
  },
  {
   "cell_type": "code",
   "execution_count": 13,
   "metadata": {},
   "outputs": [
    {
     "ename": "NameError",
     "evalue": "name 'features' is not defined",
     "output_type": "error",
     "traceback": [
      "\u001b[1;31m---------------------------------------------------------------------------\u001b[0m",
      "\u001b[1;31mNameError\u001b[0m                                 Traceback (most recent call last)",
      "Cell \u001b[1;32mIn[13], line 3\u001b[0m\n\u001b[0;32m      1\u001b[0m fig, axs \u001b[38;5;241m=\u001b[39m plt\u001b[38;5;241m.\u001b[39msubplots(\u001b[38;5;241m2\u001b[39m, \u001b[38;5;241m2\u001b[39m, figsize\u001b[38;5;241m=\u001b[39m(\u001b[38;5;241m10\u001b[39m, \u001b[38;5;241m5\u001b[39m))\n\u001b[1;32m----> 3\u001b[0m \u001b[38;5;28;01mfor\u001b[39;00m i, feature \u001b[38;5;129;01min\u001b[39;00m \u001b[38;5;28menumerate\u001b[39m(\u001b[43mfeatures\u001b[49m):\n\u001b[0;32m      4\u001b[0m     row \u001b[38;5;241m=\u001b[39m i \u001b[38;5;241m/\u001b[39m\u001b[38;5;241m/\u001b[39m \u001b[38;5;241m2\u001b[39m\n\u001b[0;32m      5\u001b[0m     col \u001b[38;5;241m=\u001b[39m i \u001b[38;5;241m%\u001b[39m \u001b[38;5;241m2\u001b[39m\n",
      "\u001b[1;31mNameError\u001b[0m: name 'features' is not defined"
     ]
    },
    {
     "data": {
      "image/png": "[encoded data removed]",
      "text/plain": [
       "<Figure size 1000x500 with 4 Axes>"
      ]
     },
     "metadata": {},
     "output_type": "display_data"
    }
   ],
   "source": [
    "fig, axs = plt.subplots(2, 2, figsize=(10, 5))\n",
    "\n",
    "for i, feature in enumerate(features):\n",
    "    row = i // 2\n",
    "    col = i % 2\n",
    "\n",
    "    # counts, bins, _ = axs[row, col].hist(df_reduced[feature], bins=50)\n",
    "    # non_zero_bins = bins[:-1][counts > 0]\n",
    "    axs[row, col].hist(df_reduced[feature], bins=50,color='green')\n",
    "    axs[row, col].set_title(f\"Distribution of {feature}\")\n",
    "    axs[row, col].set_xlabel(f\"{feature} per day [kWh]\")\n",
    "    axs[row, col].set_ylabel(\"Frequency\")\n",
    "\n",
    "plt.tight_layout()\n",
    "plt.show()"
   ]
  },
  {
   "cell_type": "markdown",
   "metadata": {},
   "source": [
    "# 4. Genre"
   ]
  },
  {
   "cell_type": "markdown",
   "metadata": {},
   "source": [
    "Which tools did you use from each of the 3 categories of Visual Narrative (Figure 7 in Segal and Heer). Why?\n",
    "Which tools did you use from each of the 3 categories of Narrative Structure (Figure 7 in Segal and Heer). Why?\n"
   ]
  },
  {
   "cell_type": "markdown",
   "metadata": {},
   "source": [
    "# 5. Visualizations"
   ]
  },
  {
   "cell_type": "markdown",
   "metadata": {},
   "source": [
    "Argue choice of visualization, explain in detail."
   ]
  },
  {
   "cell_type": "markdown",
   "metadata": {},
   "source": [
    "## Solar Energy Data in Denmark"
   ]
  },
  {
   "cell_type": "code",
   "execution_count": null,
   "metadata": {},
   "outputs": [],
   "source": [
    " # Google Data\n",
    "    googleData = pd.read_csv('../final/data/multiTimeline.csv', header=1)\n",
    "    googleData['Week'] = googleData['Uge']\n",
    "    googleData['Week'] = pd.to_datetime(googleData['Week'], format='%Y-%m-%d')\n",
    "    googleData['Index'] = googleData['Solcelle: (Danmark)'].astype(float)\n",
    "\n",
    "    # Energinet Data\n",
    "    energinetData = pd.read_csv('../final/data/energinetForecast.csv', sep=';', usecols=['HourDK', 'ForecastCurrent'])    \n",
    "    energinetData['HourDK'] = pd.to_datetime(energinetData['HourDK'])\n",
    "    energinetData['Production (MWh per hour)'] = energinetData['ForecastCurrent'].str.replace(',', '.').astype(float)    \n",
    "    \n",
    "    energinetData.set_index('HourDK', inplace=True)\n",
    "    energinetData = energinetData.resample('W').agg({'Production (MWh per hour)': 'sum'}).reset_index()\n",
    "    energinetData.rename(columns={'HourDK': 'Week'}, inplace=True)\n",
    "\n",
    "    # Gas Prices Data. Source: https://ens.dk/service/statistik-data-noegletal-og-kort/priser-paa-el-og-gas\n",
    "    gasPrices = pd.read_csv('../final/data/gasPrices.csv', sep=',')\n",
    "    gasPrices['Date'] = pd.to_datetime(gasPrices['month'], format='%YM%m')\n",
    "    gasPrices['Price DKK/GJ'] = gasPrices['price kr/GJ']\n",
    "\n",
    "    # Start date from energinetData minimum date\n",
    "    startDate = energinetData['Week'].min()\n",
    "    gasPrices = gasPrices[gasPrices['Date'] >= startDate]    \n",
    "\n",
    "    # Sort by 'Week'\n",
    "    energinetData = energinetData.sort_values(by='Week')\n",
    "\n",
    "    # set minimum date to match in both dataframes. Use the maximum of the two minimum dates\n",
    "    minDate = max(energinetData['Week'].min(), googleData['Week'].min())\n",
    "    energinetData = energinetData[energinetData['Week'] >= minDate]\n",
    "    googleData = googleData[googleData['Week'] >= minDate]        \n",
    "\n",
    "    # accumulate the forecast data\n",
    "    energinetData['Accumulated Production (MWh per hour)'] = energinetData['Production (MWh per hour)'].cumsum()\n",
    "\n",
    "    # Filters\n",
    "    dateRange = st.sidebar.date_input(\"Filter data by date range\", value=(energinetData['Week'].min(), energinetData['Week'].max()), min_value=energinetData['Week'].min(), max_value=energinetData['Week'].max())\n",
    "    \n",
    "    # help: source https://www.energidataservice.dk/tso-electricity/Forecasts_Hour\n",
    "    st.subheader(\"Denmark's Solar Power Surge and Seasonal Trends in Response to Rising Gas Prices\")    \n",
    "    st.write('This time series graph portrays the solar power production in Denmark from 2020 through April 2024 in MWh per hour. The data exhibits clear seasonality, with production escalating in summer due to more sunlight and receding in winter. Interestingly, before the pronounced production dip at the end of 2023, there\\'s an exceptional peak surpassing other summer highs. This peak corresponds to a dramatic hike in gas prices in the winter 2022, reaching 27 kr per m³ in its highest, prompting increased dependency on solar energy. Additionally, the early onset of the 2024 summer production peak suggests an acceleration in solar investments by private households and others, resulting in a more substantial and earlier increase in solar power generation.')\n",
    "\n",
    "    showPeaks = st.checkbox('Highlight Peaks', value=False, key='showPeaks')\n",
    "\n",
    "    energinetData['Date'] = energinetData['Week'].dt.date\n",
    "    googleData['Date'] = googleData['Week'].dt.date\n",
    "    gasPrices['Date'] = gasPrices['Date'].dt.date\n",
    "\n",
    "    if len(dateRange) < 2:\n",
    "        st.spinner('Please select a date range of at least two different dates.')\n",
    "    else:\n",
    "        energinetData = energinetData[(energinetData['Date'] >= dateRange[0]) & (energinetData['Date'] <= dateRange[1])]\n",
    "        googleData = googleData[(googleData['Date'] >= dateRange[0]) & (googleData['Date'] <= dateRange[1])]\n",
    "        gasPrices = gasPrices[(gasPrices['Date'] >= dateRange[0]) & (gasPrices['Date'] <= dateRange[1])]\n",
    "\n",
    "    energinetData['Above_15000'] = energinetData['Production (MWh per hour)'] > 15000\n",
    "    energinetData['Segment'] = energinetData['Above_15000'].astype(int).diff().ne(0).cumsum()\n",
    "    df_endpoints = energinetData.copy()\n",
    "    df_endpoints['Date'] = df_endpoints['Date'].shift(-1)\n",
    "    df_endpoints['Production (MWh per hour)'] = df_endpoints['Production (MWh per hour)'].shift(-1)\n",
    "    df_final = pd.concat([energinetData, df_endpoints]).sort_values(by=['Date', 'Segment']).dropna()\n",
    "    base = alt.Chart(df_final).encode(\n",
    "        x='Week:O',  # Ordinal data\n",
    "        y='Production (MWh per hour):Q',  # Quantitative data\n",
    "        detail='Segment:N'  # Use segment number as detail to differentiate lines\n",
    "    )\n",
    "    lines = base.mark_line().encode(\n",
    "        x=alt.X('Date:T'), \n",
    "        color=alt.condition(\n",
    "            alt.datum.Above_15000,\n",
    "            alt.value('lightgreen' if showPeaks else 'green'),  # True color\n",
    "            alt.value('green')  # False color\n",
    "        )\n",
    "    )\n",
    "\n",
    "\n",
    "    googleData['Date'] = pd.to_datetime(googleData['Date'])\n",
    "    gasPrices['Date'] = pd.to_datetime(gasPrices['Date'])\n",
    "    date_range = pd.date_range(start=googleData['Date'].min(), end=googleData['Date'].max())\n",
    "    date_df = pd.DataFrame(date_range, columns=['Date'])\n",
    "    googleData = pd.merge(date_df, googleData, on='Date', how='outer')\n",
    "    gasPrices = pd.merge(date_df, gasPrices, on='Date', how='outer')\n",
    "    googleData['Index'] = googleData['Index'].interpolate(method='linear')\n",
    "    gasPrices['Price DKK/GJ'] = gasPrices['Price DKK/GJ'].interpolate(method='linear')\n",
    "    mergedData = pd.merge(googleData, gasPrices, on='Date', how='outer')\n",
    "\n",
    "    # Base chart\n",
    "    base = alt.Chart(mergedData).encode(\n",
    "        alt.X('Date:T')\n",
    "    )\n",
    "\n",
    "    # First line chart\n",
    "    line1 = base.mark_line(color='blue').encode(\n",
    "        alt.Y('Index', axis=alt.Axis(title='Index', titleColor='blue'))\n",
    "    )\n",
    "\n",
    "    # Second line chart\n",
    "    line2 = base.mark_line(color='red').encode(\n",
    "        alt.Y('Price DKK/GJ', axis=alt.Axis(title='Price DKK/GJ', titleColor='red', grid=True))\n",
    "    )"
   ]
  },
  {
   "cell_type": "markdown",
   "metadata": {},
   "source": []
  },
  {
   "cell_type": "markdown",
   "metadata": {},
   "source": [
    "## EasyGreen Geospatial Data"
   ]
  },
  {
   "cell_type": "markdown",
   "metadata": {},
   "source": [
    "Make age groups"
   ]
  },
  {
   "cell_type": "code",
   "execution_count": null,
   "metadata": {},
   "outputs": [],
   "source": [
    "data = data.groupby('user_id').agg({'usage_date': 'min',\n",
    "                                        'totalProductPower': 'mean',\n",
    "                                        'totalSelfUsePower': 'mean',\n",
    "                                        'latitude': 'mean',\n",
    "                                        'longitude': 'mean',\n",
    "                                        'age': 'mean'}).reset_index()\n",
    "                \n",
    "\n",
    "    # Drop rows with missing latitude or longitude\n",
    "    data.dropna(subset=['latitude', 'longitude', 'totalProductPower', 'totalSelfUsePower', 'age'], inplace=True)\n",
    "\n",
    "    # Sort by usage_date\n",
    "    data = data.sort_values(by='usage_date')\n",
    "\n",
    "    # Filters\n",
    "\n",
    "    ## example return (datetime.date(2024, 1, 31), datetime.date(2024, 3, 28))\n",
    "    selected_date_range = st.sidebar.date_input(\"Filter map by system installation date\", value=(data['usage_date'].min(), data['usage_date'].max()), min_value=data['usage_date'].min(), max_value=data['usage_date'].max())\n",
    "    selected_date_range = pd.to_datetime(selected_date_range)\n",
    "\n",
    "    if len(selected_date_range.unique()) < 2:\n",
    "        st.spinner('Please select a date range of at least two different dates.')\n",
    "    else:\n",
    "        data = data[(data['usage_date'] >= selected_date_range[0]) & (data['usage_date'] <= selected_date_range[1])]\n",
    "\n",
    "    ## Age range\n",
    "    age_range = st.sidebar.slider(\"Filter map by customer age range\", 0, 100, (0, 100))\n",
    "    data = data[(data['age'] >= age_range[0]) & (data['age'] <= age_range [1])]\n",
    "\n",
    "    ## Production range\n",
    "    max_range = int(data['totalProductPower'].max())\n",
    "    production_range = st.sidebar.slider(\"Filter map by daily production range\", 0, max_range, (0, max_range))\n",
    "    data = data[(data['totalProductPower'] >= production_range[0]) & (data['totalProductPower'] <= production_range[1])]\n",
    "\n",
    "    data.reset_index(inplace=True)\n",
    "\n",
    "    elevation = st.sidebar.radio(\"Analyze Map By\", ('Average Production Per Day', 'Age'))\n",
    "    \n",
    "    if elevation == 'Average Production Per Day':\n",
    "        elevation_weight = 'totalProductPower'\n",
    "    elif elevation == 'Average Utilized Production Per Day':\n",
    "        elevation_weight = 'totalSelfUsePower'\n",
    "    elif elevation == 'Age':\n",
    "        elevation_weight = 'age'\n",
    "    \n",
    "    if elevation == 'Average Production Per Day':\n",
    "        st.subheader(\"Visualization of Solar Power Production by EasyGreen Customers Across Denmark\")\n",
    "        st.write('')\n",
    "        st.write(\"One way to represent data provided by EasyGreen is to spatially visualize the solar power production of their customers across Denmark. The age group and location of each household are provided and allow for a detailed analysis. Feel free to explore the data by adjusting the sliders on the sidebar.\")\n",
    "        st.write('The plot displays a 3D hexagonal bin map visualization centered over Denmark, highlighting solar power production data for EasyGreen\\'s customers. Each hexagonal column represents the geographic clustering of customers, and the height of the columns is proportional to the average daily solar power production. The highest solar power outputs are indicated by the tallest columns, color-coded in red and orange. The map provides geographic and quantitative insights into solar power distribution among EasyGreen\\'s customer base.')\n",
    "    elif elevation == 'Age':\n",
    "        st.subheader(\"Visualization of EasyGreen's Customer Age Distribution Across Denmark\")\n",
    "        st.write('The plot displays a heatmap distribution of EasyGreen\\'s customers across Denmark, color-coded by age. The most concentrated areas with the oldest customer base are shown in red, with decreasing age groups represented by cooler colors, yellow to white. The densest area of older customers is located in the eastern part of Denmark. The heatmap settings have been configured to restrict zooming capabilities to safeguard privacy, ensuring individual customer data cannot be discerned, allowing only a macro view of the age distribution.')\n",
    "\n",
    "\n",
    "    layer = pdk.Layer(\n",
    "        \"HexagonLayer\" if elevation_weight != 'age' else \"HeatmapLayer\",\n",
    "        data=data,\n",
    "        get_position=\"[longitude, latitude]\",\n",
    "        auto_highlight=True,\n",
    "        elevation_scale=3000,\n",
    "        pickable=True,\n",
    "        get_polygon=\"-\",\n",
    "        get_fill_color=[0, 0, 0, 20],\n",
    "        stroked=False,\n",
    "        elevation_range=[0, max_range],\n",
    "        extruded=True,\n",
    "        coverage=1,\n",
    "        get_elevation_weight = elevation_weight,\n",
    "    )\n",
    "\n",
    "    view_state = pdk.ViewState(\n",
    "        longitude=10.38831, latitude=55.79594, zoom=6.2, min_zoom=5, max_zoom=11 if elevation_weight != 'age' else 7, pitch=41 if elevation_weight != 'age' else 0, bearing=20 if elevation_weight != 'age' else 0, height=700\n",
    "    )\n",
    "\n",
    "\n",
    "    # Combined all of it and render a viewport\n",
    "    r = pdk.Deck(\n",
    "        map_style=\"mapbox://styles/mapbox/dark-v9\",\n",
    "        layers=[layer],\n",
    "        initial_view_state=view_state,\n",
    "        tooltip={\n",
    "                \"html\":f\"<b>{elevation}:</b> {{elevationValue}}<br>\",\n",
    "                \"style\": {\"color\": \"white\"}}        \n",
    "    )"
   ]
  },
  {
   "cell_type": "markdown",
   "metadata": {},
   "source": [
    "## Energy Dynamics: Comparing Production and Usage"
   ]
  },
  {
   "cell_type": "code",
   "execution_count": null,
   "metadata": {},
   "outputs": [],
   "source": [
    "data['usage_month'] = data['usage_date'].dt.month \n",
    "\n",
    "    # Ensure 'totalProductPower' is float and apply conditions\n",
    "    data['totalProductPower'] = data['totalProductPower'].astype(float)\n",
    "    data['totalProductPower'] = data['totalProductPower'].apply(lambda x: max(0, min(x, 10000)))\n",
    "\n",
    "    # Convert 'usage_date' to month names\n",
    "    data['usage_month'] = data['usage_date'].dt.strftime('%B')\n",
    "    month_order = ['January', 'February', 'March', 'April', 'May', 'June', 'July', 'August', 'September', 'October', 'November', 'December']\n",
    "    data['usage_month'] = pd.Categorical(data['usage_month'], categories=month_order, ordered=True)\n",
    "\n",
    "    # Ensure 'totalProductPower' is float and apply conditions\n",
    "    data['totalProductPower'] = data['totalProductPower'].astype(float)\n",
    "    data['totalProductPower'] = data['totalProductPower'].apply(lambda x: max(0, min(x, 10000)))\n",
    "\n",
    "    # Chart data\n",
    "    production_data = data.groupby('usage_month')['totalProductPower'].mean().reset_index()\n",
    "    self_use_data = data.groupby('usage_month')['totalSelfUsePower'].mean().reset_index()\n",
    "    totalUsePower_data = data.groupby('usage_month')['totalUsePower'].mean().reset_index()\n",
    "    night_data = data.groupby('usage_month')['night_usage'].mean().reset_index()\n",
    "\n",
    "    # Charts\n",
    "    production_chart = alt.Chart(production_data).mark_bar(color = 'green', opacity=0.5).encode(\n",
    "        x=alt.X('usage_month:N', title='Month', sort=month_order),  # Specify nominal data with :N\n",
    "        y=alt.Y('totalProductPower:Q', title='Production in kWh per day'),  # Specify quantitative data with :Q\n",
    "            tooltip=[\n",
    "                alt.Tooltip('usage_month:N', title='Month'),\n",
    "                alt.Tooltip('totalProductPower:Q', title='Average Production per Day')\n",
    "            ]\n",
    "    ).properties(\n",
    "        height=600\n",
    "    )\n",
    "\n",
    "    selfUse_chart = alt.Chart(self_use_data).mark_bar(color = 'green').encode(\n",
    "            x=alt.X('usage_month:N', sort=month_order),  # Specify nominal data with :N\n",
    "            y=alt.Y('totalSelfUsePower:Q'),  # Specify quantitative data with :Q\n",
    "            tooltip=[\n",
    "                alt.Tooltip('usage_month:N', title='Month'),\n",
    "                alt.Tooltip('totalSelfUsePower:Q', title='Average Utilized Production per Day')\n",
    "            ]\n",
    "        ).properties(\n",
    "            height=600\n",
    "    )\n",
    "\n",
    "    use_chart = alt.Chart(totalUsePower_data).mark_bar(color = 'red', opacity=0.5).encode(\n",
    "            x=alt.X('usage_month:N', sort=month_order, title = 'Month'),  # Specify nominal data with :N\n",
    "            y=alt.Y('totalUsePower:Q', title= 'Usage in kWh per day'),\n",
    "            tooltip=[\n",
    "                alt.Tooltip('usage_month:N', title='Month'),\n",
    "                alt.Tooltip('totalUsePower:Q', title='Usage in kWh per Day')\n",
    "            ]\n",
    "        ).properties(\n",
    "            height=600\n",
    "    )\n",
    "\n",
    "    nightUsage_chart = alt.Chart(night_data).mark_bar(color = 'red').encode(\n",
    "            x=alt.X('usage_month:N', sort=month_order),\n",
    "            y=alt.Y('night_usage:Q'),\n",
    "            tooltip=[\n",
    "                alt.Tooltip('usage_month:N', title='Month'),\n",
    "                alt.Tooltip('night_usage:Q', title='Avg. Night Usage per Day')\n",
    "            ]\n",
    "        ).properties(\n",
    "            height=600\n",
    "    )"
   ]
  },
  {
   "cell_type": "markdown",
   "metadata": {},
   "source": [
    "# 6. Discussion"
   ]
  },
  {
   "cell_type": "markdown",
   "metadata": {},
   "source": [
    "Generally, the website design and the implementation and interpretation of the visualizations went well.\n",
    "The data was represented in several different approaches and set into a larger context.\n",
    "\n",
    "However, combining the insights from the different plots and drawing conclusions was quite challenging. More research and background knowledge would be required to "
   ]
  },
  {
   "cell_type": "markdown",
   "metadata": {},
   "source": [
    "# 7. Contributions\n",
    "\n",
    "| Name | Shakir Maytham Shaker | Magnus Mac Doberenz | Yili Ge |\n",
    "|----------|----------|----------|----------|\n",
    "| Data cleaning  | In charge | Revise | Revise  |\n",
    "| Data preliminary analysis  | Revise | In charge | In charge |\n",
    "| Data deep analysis   | In charge | In charge | In charge |\n",
    "| Visualizations| In charge | Revise | Revise |"
   ]
  }
 ],
 "metadata": {
  "kernelspec": {
   "display_name": "Python 3",
   "language": "python",
   "name": "python3"
  },
  "language_info": {
   "codemirror_mode": {
    "name": "ipython",
    "version": 3
   },
   "file_extension": ".py",
   "mimetype": "text/x-python",
   "name": "python",
   "nbconvert_exporter": "python",
   "pygments_lexer": "ipython3",
   "version": "3.10.11"
  }
 },
 "nbformat": 4,
 "nbformat_minor": 2
}
